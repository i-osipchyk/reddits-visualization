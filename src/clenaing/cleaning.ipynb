{
 "cells": [
  {
   "cell_type": "code",
   "execution_count": 46,
   "metadata": {
    "collapsed": true
   },
   "outputs": [],
   "source": [
    "# imports\n",
    "import pandas as pd\n",
    "import matplotlib.pyplot as plt"
   ]
  },
  {
   "cell_type": "code",
   "execution_count": 47,
   "outputs": [],
   "source": [
    "# initialize which columns to keep\n",
    "def columns_to_keep_init():\n",
    "    brisbane_2019 = pd.read_csv('../../data/cleaned/Brisbane/brisbane_2019.csv')\n",
    "    columns_to_keep = [col for col in brisbane_2019.columns]\n",
    "    return columns_to_keep"
   ],
   "metadata": {
    "collapsed": false
   }
  },
  {
   "cell_type": "code",
   "execution_count": 48,
   "outputs": [
    {
     "name": "stderr",
     "output_type": "stream",
     "text": [
      "/var/folders/q7/0s4jjvb94hb_2_90j2545plw0000gn/T/ipykernel_7213/942249549.py:2: DtypeWarning: Columns (18,28,44,48,49,52,53) have mixed types. Specify dtype option on import or set low_memory=False.\n",
      "  sydney_2019 = pd.read_csv('../../data/raw/Sydney/sydney_2019.csv')\n"
     ]
    }
   ],
   "source": [
    "# read csv\n",
    "def read_files():\n",
    "    path = '../../data/raw/'\n",
    "    cities = ['sydney', 'melbourne']\n",
    "    years = ['2019', '2020', '2021', '2022']\n",
    "    dataframes_dict = {}\n",
    "\n",
    "    for city in cities:\n",
    "        for year in years:\n",
    "            dataframes_dict[city + '_' + year] = pd.read_csv(path + city.capitalize() + '/' + city + '_' + year + '.csv')"
   ],
   "metadata": {
    "collapsed": false
   }
  },
  {
   "cell_type": "code",
   "execution_count": 51,
   "outputs": [],
   "source": [
    "# define function to drop columns\n",
    "# TODO: add function to final function\n",
    "def drop_columns(dataframe, columns_to_keep):\n",
    "    return dataframe.loc[:, columns_to_keep]"
   ],
   "metadata": {
    "collapsed": false
   }
  },
  {
   "cell_type": "code",
   "execution_count": 58,
   "outputs": [],
   "source": [
    "# define function to remove time\n",
    "# TODO: add function to final function\n",
    "def remove_time(dataframe):\n",
    "    dataframe['utc_datetime_str'] = pd.to_datetime(dataframe['utc_datetime_str'])\n",
    "    dataframe['utc_datetime_str'] = dataframe['utc_datetime_str'].dt.date\n",
    "    return dataframe"
   ],
   "metadata": {
    "collapsed": false
   }
  },
  {
   "cell_type": "code",
   "execution_count": 60,
   "outputs": [],
   "source": [
    "# TODO: add line to final function\n",
    "def sort_by_date(dataframe):\n",
    "    dataframe.sort_values(by='utc_datetime_str', inplace=True)\n",
    "    return dataframe"
   ],
   "metadata": {
    "collapsed": false
   }
  },
  {
   "cell_type": "code",
   "execution_count": null,
   "outputs": [],
   "source": [
    "# TODO: write a complete function that makes all the cleaning operations with the data\n",
    "# TODO: and store dataframes files as reddits-visualization/data/cleaned/CITY_YEAR.csv"
   ],
   "metadata": {
    "collapsed": false
   }
  },
  {
   "cell_type": "code",
   "execution_count": null,
   "outputs": [],
   "source": [
    "def write_files(dataframes_dict):\n",
    "    path = '../../data/cleaned/'\n",
    "\n",
    "    for key, value in dataframes_dict.items():\n",
    "        full_path = path + key[:-5].capitalize + '/' + key + '.csv'\n",
    "        value.to_csv(path_or_buf=full_path)"
   ],
   "metadata": {
    "collapsed": false
   }
  },
  {
   "cell_type": "code",
   "execution_count": null,
   "outputs": [],
   "source": [
    "def clean():\n",
    "    dataframes_dict = read_files()\n",
    "    columns_to_keep = columns_to_keep_init()\n",
    "    dataframes_dict_copy = dataframes_dict\n",
    "\n",
    "    for key, value in dataframes_dict_copy.items():\n",
    "        df = drop_columns(value, columns_to_keep)\n",
    "        df = remove_time(df)\n",
    "        df = sort_by_date(df)\n",
    "\n",
    "    write_files()"
   ],
   "metadata": {
    "collapsed": false
   }
  },
  {
   "cell_type": "code",
   "execution_count": null,
   "outputs": [],
   "source": [
    "clean()"
   ],
   "metadata": {
    "collapsed": false
   }
  }
 ],
 "metadata": {
  "kernelspec": {
   "display_name": "Python 3",
   "language": "python",
   "name": "python3"
  },
  "language_info": {
   "codemirror_mode": {
    "name": "ipython",
    "version": 2
   },
   "file_extension": ".py",
   "mimetype": "text/x-python",
   "name": "python",
   "nbconvert_exporter": "python",
   "pygments_lexer": "ipython2",
   "version": "2.7.6"
  }
 },
 "nbformat": 4,
 "nbformat_minor": 0
}
