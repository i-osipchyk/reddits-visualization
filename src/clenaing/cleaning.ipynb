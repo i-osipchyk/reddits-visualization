{
 "cells": [
  {
   "cell_type": "code",
   "execution_count": 46,
   "metadata": {
    "collapsed": true
   },
   "outputs": [],
   "source": [
    "# imports\n",
    "import pandas as pd\n",
    "import matplotlib.pyplot as plt"
   ]
  },
  {
   "cell_type": "code",
   "execution_count": 47,
   "outputs": [],
   "source": [
    "# initialize which columns to leave\n",
    "# TODO: leave \"columns_to_leave\" variable\n",
    "brisbane_2019 = pd.read_csv('../../data/cleaned/Brisbane/brisbane_2019.csv')\n",
    "columns_to_leave = [col for col in brisbane_2019.columns]"
   ],
   "metadata": {
    "collapsed": false
   }
  },
  {
   "cell_type": "code",
   "execution_count": 48,
   "outputs": [
    {
     "name": "stderr",
     "output_type": "stream",
     "text": [
      "/var/folders/q7/0s4jjvb94hb_2_90j2545plw0000gn/T/ipykernel_7213/942249549.py:2: DtypeWarning: Columns (18,28,44,48,49,52,53) have mixed types. Specify dtype option on import or set low_memory=False.\n",
      "  sydney_2019 = pd.read_csv('../../data/raw/Sydney/sydney_2019.csv')\n"
     ]
    }
   ],
   "source": [
    "# read csv\n",
    "# TODO: for loop with dictionary in format {name: dataframe}\n",
    "sydney_2019 = pd.read_csv('../../data/raw/Sydney/sydney_2019.csv')"
   ],
   "metadata": {
    "collapsed": false
   }
  },
  {
   "cell_type": "code",
   "execution_count": 49,
   "outputs": [],
   "source": [
    "# initialize all columns\n",
    "# TODO: leave \"all_columns\" variable\n",
    "all_columns = [col for col in sydney_2019.columns]"
   ],
   "metadata": {
    "collapsed": false
   }
  },
  {
   "cell_type": "code",
   "execution_count": 56,
   "outputs": [
    {
     "name": "stdout",
     "output_type": "stream",
     "text": [
      "['score', 'edited_on', 'updated_utc', 'controversiality', 'no_follow', 'locked', 'id', 'author_cakeday', 'collapsed_reason', 'author_flair_background_color', 'distinguished', 'author_flair_type', 'link_id', 'body_sha1', 'send_replies', 'stickied', 'archived', 'subreddit_name_prefixed', 'collapsed_because_crowd_control', 'author_flair_css_class', 'author_flair_richtext', 'author_flair_template_id', 'is_submitter', 'subreddit_id', 'total_awards_received', 'can_gild', 'author_fullname', 'author_flair_text_color', 'all_awardings', 'collapsed', 'retrieved_utc', 'can_mod_post', 'removal_reason', 'gildings', 'treatment_tags', 'author_premium', 'permalink', 'subreddit_type', 'edited', 'author_flair_text', 'quarantined', 'gilded', 'author_patreon_flair', 'steward_reports', 'created_utc', 'associated_award', 'awarders', 'nest_level', 'parent_id', 'author', 'body', 'author_created_utc', 'body']\n"
     ]
    }
   ],
   "source": [
    "# initialize columns to drop\n",
    "# TODO: leave \"columns to drop\" variable\n",
    "columns_to_drop_set = set(all_columns) - set(columns_to_leave)\n",
    "columns_to_drop = list(columns_to_drop_set)+['author', 'body', 'author_created_utc', 'body']"
   ],
   "metadata": {
    "collapsed": false
   }
  },
  {
   "cell_type": "code",
   "execution_count": 51,
   "outputs": [],
   "source": [
    "# define function to drop columns\n",
    "# TODO: add function to final function\n",
    "def drop_columns(dataframe):\n",
    "    global columns_to_drop\n",
    "    return dataframe.drop(columns_to_drop, axis=1)"
   ],
   "metadata": {
    "collapsed": false
   }
  },
  {
   "cell_type": "code",
   "execution_count": 57,
   "outputs": [],
   "source": [
    "# apply function to one dataframe\n",
    "# TODO: remove the cell\n",
    "sydney_2019 = drop_columns(sydney_2019)"
   ],
   "metadata": {
    "collapsed": false
   }
  },
  {
   "cell_type": "code",
   "execution_count": 58,
   "outputs": [],
   "source": [
    "# define function to remove time\n",
    "# TODO: add function to final function\n",
    "def remove_time(dataframe):\n",
    "    dataframe['utc_datetime_str'] = pd.to_datetime(dataframe['utc_datetime_str'])\n",
    "    dataframe['utc_datetime_str'] = dataframe['utc_datetime_str'].dt.date\n",
    "    return dataframe"
   ],
   "metadata": {
    "collapsed": false
   }
  },
  {
   "cell_type": "code",
   "execution_count": 59,
   "outputs": [],
   "source": [
    "# apply function to dataframe\n",
    "# TODO: remove the cell\n",
    "sydney_2019 = remove_time(sydney_2019)"
   ],
   "metadata": {
    "collapsed": false
   }
  },
  {
   "cell_type": "code",
   "execution_count": 60,
   "outputs": [],
   "source": [
    "# TODO: add line to final function\n",
    "sydney_2019.sort_values(by='utc_datetime_str', inplace=True)"
   ],
   "metadata": {
    "collapsed": false
   }
  },
  {
   "cell_type": "code",
   "execution_count": 61,
   "outputs": [
    {
     "name": "stderr",
     "output_type": "stream",
     "text": [
      "/var/folders/q7/0s4jjvb94hb_2_90j2545plw0000gn/T/ipykernel_7213/699739393.py:10: FutureWarning: weekofyear and week have been deprecated, please use DatetimeIndex.isocalendar().week instead, which returns a Series. To exactly reproduce the behavior of week and weekofyear and return an Index, you may call pd.Int64Index(idx.isocalendar().week)\n",
      "  result['week_number'] = result.index.week // 2 + 1\n"
     ]
    },
    {
     "data": {
      "text/plain": "                  week_number   Analytic\nutc_datetime_str                        \n2019-01-06                  1  55.103268\n2019-01-20                  2  54.427522\n2019-02-03                  3  54.924476\n2019-02-17                  4  55.759975\n2019-03-03                  5  55.386078\n2019-03-17                  6  54.167660\n2019-03-31                  7  51.826765\n2019-04-14                  8  52.721964\n2019-04-28                  9  53.034314\n2019-05-12                 10  53.931132\n2019-05-26                 11  53.898686\n2019-06-09                 12  53.529084\n2019-06-23                 13  54.715836\n2019-07-07                 14  55.238748\n2019-07-21                 15  54.321088\n2019-08-04                 16  55.231084\n2019-08-18                 17  54.012372\n2019-09-01                 18  56.379100\n2019-09-15                 19  57.043336\n2019-09-29                 20  57.017110\n2019-10-13                 21  58.503903\n2019-10-27                 22  56.755033\n2019-11-10                 23  57.631582\n2019-11-24                 24  57.507683\n2019-12-08                 25  55.293563\n2019-12-22                 26  54.310465\n2020-01-05                  1  56.154350",
      "text/html": "<div>\n<style scoped>\n    .dataframe tbody tr th:only-of-type {\n        vertical-align: middle;\n    }\n\n    .dataframe tbody tr th {\n        vertical-align: top;\n    }\n\n    .dataframe thead th {\n        text-align: right;\n    }\n</style>\n<table border=\"1\" class=\"dataframe\">\n  <thead>\n    <tr style=\"text-align: right;\">\n      <th></th>\n      <th>week_number</th>\n      <th>Analytic</th>\n    </tr>\n    <tr>\n      <th>utc_datetime_str</th>\n      <th></th>\n      <th></th>\n    </tr>\n  </thead>\n  <tbody>\n    <tr>\n      <th>2019-01-06</th>\n      <td>1</td>\n      <td>55.103268</td>\n    </tr>\n    <tr>\n      <th>2019-01-20</th>\n      <td>2</td>\n      <td>54.427522</td>\n    </tr>\n    <tr>\n      <th>2019-02-03</th>\n      <td>3</td>\n      <td>54.924476</td>\n    </tr>\n    <tr>\n      <th>2019-02-17</th>\n      <td>4</td>\n      <td>55.759975</td>\n    </tr>\n    <tr>\n      <th>2019-03-03</th>\n      <td>5</td>\n      <td>55.386078</td>\n    </tr>\n    <tr>\n      <th>2019-03-17</th>\n      <td>6</td>\n      <td>54.167660</td>\n    </tr>\n    <tr>\n      <th>2019-03-31</th>\n      <td>7</td>\n      <td>51.826765</td>\n    </tr>\n    <tr>\n      <th>2019-04-14</th>\n      <td>8</td>\n      <td>52.721964</td>\n    </tr>\n    <tr>\n      <th>2019-04-28</th>\n      <td>9</td>\n      <td>53.034314</td>\n    </tr>\n    <tr>\n      <th>2019-05-12</th>\n      <td>10</td>\n      <td>53.931132</td>\n    </tr>\n    <tr>\n      <th>2019-05-26</th>\n      <td>11</td>\n      <td>53.898686</td>\n    </tr>\n    <tr>\n      <th>2019-06-09</th>\n      <td>12</td>\n      <td>53.529084</td>\n    </tr>\n    <tr>\n      <th>2019-06-23</th>\n      <td>13</td>\n      <td>54.715836</td>\n    </tr>\n    <tr>\n      <th>2019-07-07</th>\n      <td>14</td>\n      <td>55.238748</td>\n    </tr>\n    <tr>\n      <th>2019-07-21</th>\n      <td>15</td>\n      <td>54.321088</td>\n    </tr>\n    <tr>\n      <th>2019-08-04</th>\n      <td>16</td>\n      <td>55.231084</td>\n    </tr>\n    <tr>\n      <th>2019-08-18</th>\n      <td>17</td>\n      <td>54.012372</td>\n    </tr>\n    <tr>\n      <th>2019-09-01</th>\n      <td>18</td>\n      <td>56.379100</td>\n    </tr>\n    <tr>\n      <th>2019-09-15</th>\n      <td>19</td>\n      <td>57.043336</td>\n    </tr>\n    <tr>\n      <th>2019-09-29</th>\n      <td>20</td>\n      <td>57.017110</td>\n    </tr>\n    <tr>\n      <th>2019-10-13</th>\n      <td>21</td>\n      <td>58.503903</td>\n    </tr>\n    <tr>\n      <th>2019-10-27</th>\n      <td>22</td>\n      <td>56.755033</td>\n    </tr>\n    <tr>\n      <th>2019-11-10</th>\n      <td>23</td>\n      <td>57.631582</td>\n    </tr>\n    <tr>\n      <th>2019-11-24</th>\n      <td>24</td>\n      <td>57.507683</td>\n    </tr>\n    <tr>\n      <th>2019-12-08</th>\n      <td>25</td>\n      <td>55.293563</td>\n    </tr>\n    <tr>\n      <th>2019-12-22</th>\n      <td>26</td>\n      <td>54.310465</td>\n    </tr>\n    <tr>\n      <th>2020-01-05</th>\n      <td>1</td>\n      <td>56.154350</td>\n    </tr>\n  </tbody>\n</table>\n</div>"
     },
     "execution_count": 61,
     "metadata": {},
     "output_type": "execute_result"
    }
   ],
   "source": [
    "# TODO: write as a function and add to final function\n",
    "test_df = sydney_2019[['utc_datetime_str', 'Analytic']]\n",
    "\n",
    "test_df.set_index('utc_datetime_str', inplace=True) # set 'date' column as the index\n",
    "test_df.index = pd.to_datetime(test_df.index) # convert index to datetime index\n",
    "\n",
    "# resample by 2 weeks and calculate mean\n",
    "result = test_df.resample('2W').mean()\n",
    "\n",
    "# create new column for week number\n",
    "result['week_number'] = result.index.week // 2 + 1\n",
    "result = result[['week_number', 'Analytic']] # reorder columns\n",
    "result.head(27)"
   ],
   "metadata": {
    "collapsed": false
   }
  },
  {
   "cell_type": "code",
   "execution_count": 35,
   "outputs": [
    {
     "data": {
      "text/plain": "[<matplotlib.lines.Line2D at 0x15019b0d0>]"
     },
     "execution_count": 35,
     "metadata": {},
     "output_type": "execute_result"
    },
    {
     "data": {
      "text/plain": "<Figure size 640x480 with 1 Axes>",
      "image/png": "[encoded data removed]"
     },
     "metadata": {},
     "output_type": "display_data"
    }
   ],
   "source": [
    "# TODO: move to another directory\n",
    "plt.plot(result['Analytic'], linestyle='solid')"
   ],
   "metadata": {
    "collapsed": false
   }
  },
  {
   "cell_type": "code",
   "execution_count": null,
   "outputs": [],
   "source": [
    "# TODO: write a complete function that makes all the cleaning operations with the data\n",
    "# TODO: and store dataframes files as reddits-visualization/data/cleaned/CITY_YEAR.csv"
   ],
   "metadata": {
    "collapsed": false
   }
  }
 ],
 "metadata": {
  "kernelspec": {
   "display_name": "Python 3",
   "language": "python",
   "name": "python3"
  },
  "language_info": {
   "codemirror_mode": {
    "name": "ipython",
    "version": 2
   },
   "file_extension": ".py",
   "mimetype": "text/x-python",
   "name": "python",
   "nbconvert_exporter": "python",
   "pygments_lexer": "ipython2",
   "version": "2.7.6"
  }
 },
 "nbformat": 4,
 "nbformat_minor": 0
}
