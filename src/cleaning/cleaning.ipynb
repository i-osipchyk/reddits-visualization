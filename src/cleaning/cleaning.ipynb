{
 "cells": [
  {
   "cell_type": "code",
   "execution_count": 3,
   "metadata": {
    "collapsed": true
   },
   "outputs": [],
   "source": [
    "# imports\n",
    "import pandas as pd"
   ]
  },
  {
   "cell_type": "code",
   "execution_count": 4,
   "outputs": [],
   "source": [
    "# initialize which columns to keep\n",
    "def columns_to_keep_init():\n",
    "    brisbane_2019 = pd.read_csv('../../data/cleaned/Brisbane/brisbane_2019.csv')\n",
    "    columns_to_keep = [col for col in brisbane_2019.columns]\n",
    "    return columns_to_keep"
   ],
   "metadata": {
    "collapsed": false
   }
  },
  {
   "cell_type": "code",
   "execution_count": 5,
   "outputs": [],
   "source": [
    "# define function read csvs\n",
    "def read_files():\n",
    "    path = '../../data/raw/'\n",
    "    cities = ['sydney', 'melbourne']\n",
    "    years = ['2020', '2021', '2022']\n",
    "    dataframes_dict = {}\n",
    "\n",
    "    for city in cities:\n",
    "        for year in years:\n",
    "            df = pd.read_csv(path + city.capitalize() + '/' + city + '_' + year + '.csv')\n",
    "            dataframes_dict[city + '_' + year] = df\n",
    "\n",
    "    return dataframes_dict"
   ],
   "metadata": {
    "collapsed": false
   }
  },
  {
   "cell_type": "code",
   "execution_count": 6,
   "outputs": [],
   "source": [
    "# define function to drop columns\n",
    "def drop_columns(dataframe, columns_to_keep):\n",
    "    return dataframe.loc[:, columns_to_keep]"
   ],
   "metadata": {
    "collapsed": false
   }
  },
  {
   "cell_type": "code",
   "execution_count": 7,
   "outputs": [],
   "source": [
    "# define function to remove time\n",
    "def remove_time(dataframe):\n",
    "    dataframe['utc_datetime_str'] = pd.to_datetime(dataframe['utc_datetime_str'])\n",
    "    dataframe['utc_datetime_str'] = dataframe['utc_datetime_str'].dt.date\n",
    "    return dataframe"
   ],
   "metadata": {
    "collapsed": false
   }
  },
  {
   "cell_type": "code",
   "execution_count": 8,
   "outputs": [],
   "source": [
    "# define function to sort dataframes by date\n",
    "def sort_by_date(dataframe):\n",
    "    df = dataframe.sort_values(by='utc_datetime_str')\n",
    "    return df"
   ],
   "metadata": {
    "collapsed": false
   }
  },
  {
   "cell_type": "code",
   "execution_count": 9,
   "outputs": [],
   "source": [
    "# define function to write cleaned dataframes\n",
    "def write_files(dataframes_dict):\n",
    "    path = '../../data/cleaned/'\n",
    "\n",
    "    for key, value in dataframes_dict.items():\n",
    "        full_path = path + key[:-5].capitalize() + '/' + key + '.csv'\n",
    "        value.to_csv(path_or_buf=full_path)"
   ],
   "metadata": {
    "collapsed": false
   }
  },
  {
   "cell_type": "code",
   "execution_count": 1,
   "outputs": [],
   "source": [
    "# define function to combine all functions from above\n",
    "def clean():\n",
    "    dataframes_dict = read_files()\n",
    "    columns_to_keep = columns_to_keep_init()\n",
    "    dataframes_dict_copy = dataframes_dict\n",
    "\n",
    "    for key, value in dataframes_dict_copy.items():\n",
    "        df = drop_columns(value, columns_to_keep)\n",
    "        df = remove_time(df)\n",
    "        df = sort_by_date(df)\n",
    "        dataframes_dict[key] = df\n",
    "\n",
    "    # uncomment the line below to write cleaned dataframes reddits-visualization/data/cleaned\n",
    "    # write_files(dataframes_dict)\n",
    "    return dataframes_dict"
   ],
   "metadata": {
    "collapsed": false
   }
  },
  {
   "cell_type": "code",
   "execution_count": 10,
   "outputs": [
    {
     "name": "stderr",
     "output_type": "stream",
     "text": [
      "/var/folders/q7/0s4jjvb94hb_2_90j2545plw0000gn/T/ipykernel_2409/1185495060.py:10: DtypeWarning: Columns (23) have mixed types. Specify dtype option on import or set low_memory=False.\n",
      "  df = pd.read_csv(path + city.capitalize() + '/' + city + '_' + year + '.csv')\n",
      "/var/folders/q7/0s4jjvb94hb_2_90j2545plw0000gn/T/ipykernel_2409/1185495060.py:10: DtypeWarning: Columns (1,24,37,51,53,55,56,57,59) have mixed types. Specify dtype option on import or set low_memory=False.\n",
      "  df = pd.read_csv(path + city.capitalize() + '/' + city + '_' + year + '.csv')\n",
      "/var/folders/q7/0s4jjvb94hb_2_90j2545plw0000gn/T/ipykernel_2409/1185495060.py:10: DtypeWarning: Columns (6,19,20,24,54,55) have mixed types. Specify dtype option on import or set low_memory=False.\n",
      "  df = pd.read_csv(path + city.capitalize() + '/' + city + '_' + year + '.csv')\n",
      "/var/folders/q7/0s4jjvb94hb_2_90j2545plw0000gn/T/ipykernel_2409/1185495060.py:10: DtypeWarning: Columns (35,54) have mixed types. Specify dtype option on import or set low_memory=False.\n",
      "  df = pd.read_csv(path + city.capitalize() + '/' + city + '_' + year + '.csv')\n",
      "/var/folders/q7/0s4jjvb94hb_2_90j2545plw0000gn/T/ipykernel_2409/1185495060.py:10: DtypeWarning: Columns (1,32,51,53,55,56,57,59) have mixed types. Specify dtype option on import or set low_memory=False.\n",
      "  df = pd.read_csv(path + city.capitalize() + '/' + city + '_' + year + '.csv')\n",
      "/var/folders/q7/0s4jjvb94hb_2_90j2545plw0000gn/T/ipykernel_2409/1185495060.py:10: DtypeWarning: Columns (5,19,24,41,54,55) have mixed types. Specify dtype option on import or set low_memory=False.\n",
      "  df = pd.read_csv(path + city.capitalize() + '/' + city + '_' + year + '.csv')\n"
     ]
    },
    {
     "name": "stdout",
     "output_type": "stream",
     "text": [
      "Stored 'dataframes' (dict)\n"
     ]
    }
   ],
   "source": [
    "# call clean() function and store cleaned dataframes so that they can be used for visualization\n",
    "dataframes = clean()\n",
    "%store dataframes"
   ],
   "metadata": {
    "collapsed": false
   }
  },
  {
   "cell_type": "code",
   "execution_count": null,
   "outputs": [],
   "source": [],
   "metadata": {
    "collapsed": false
   }
  }
 ],
 "metadata": {
  "kernelspec": {
   "display_name": "Python 3",
   "language": "python",
   "name": "python3"
  },
  "language_info": {
   "codemirror_mode": {
    "name": "ipython",
    "version": 2
   },
   "file_extension": ".py",
   "mimetype": "text/x-python",
   "name": "python",
   "nbconvert_exporter": "python",
   "pygments_lexer": "ipython2",
   "version": "2.7.6"
  }
 },
 "nbformat": 4,
 "nbformat_minor": 0
}
