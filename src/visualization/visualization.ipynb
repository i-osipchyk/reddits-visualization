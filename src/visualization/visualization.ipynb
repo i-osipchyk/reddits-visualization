{
 "cells": [
  {
   "cell_type": "code",
   "execution_count": 2,
   "metadata": {
    "collapsed": true
   },
   "outputs": [],
   "source": [
    "import pandas as pd\n",
    "import matplotlib.pyplot as plt"
   ]
  },
  {
   "cell_type": "code",
   "execution_count": null,
   "outputs": [],
   "source": [
    "test_df = sydney_2019[['utc_datetime_str', 'Analytic']]\n",
    "\n",
    "test_df.set_index('utc_datetime_str', inplace=True) # set 'date' column as the index\n",
    "test_df.index = pd.to_datetime(test_df.index) # convert index to datetime index\n",
    "\n",
    "# resample by 2 weeks and calculate mean\n",
    "result = test_df.resample('2W').mean()\n",
    "\n",
    "# create new column for week number\n",
    "result['week_number'] = result.index.week // 2 + 1\n",
    "result = result[['week_number', 'Analytic']] # reorder columns\n",
    "result.head(27)"
   ],
   "metadata": {
    "collapsed": false
   }
  },
  {
   "cell_type": "code",
   "execution_count": null,
   "outputs": [],
   "source": [
    "plt.plot(result['Analytic'], linestyle='solid')"
   ],
   "metadata": {
    "collapsed": false
   }
  }
 ],
 "metadata": {
  "kernelspec": {
   "display_name": "Python 3",
   "language": "python",
   "name": "python3"
  },
  "language_info": {
   "codemirror_mode": {
    "name": "ipython",
    "version": 2
   },
   "file_extension": ".py",
   "mimetype": "text/x-python",
   "name": "python",
   "nbconvert_exporter": "python",
   "pygments_lexer": "ipython2",
   "version": "2.7.6"
  }
 },
 "nbformat": 4,
 "nbformat_minor": 0
}
