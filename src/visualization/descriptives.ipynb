{
 "cells": [
  {
   "cell_type": "code",
   "execution_count": 1,
   "metadata": {
    "collapsed": true
   },
   "outputs": [],
   "source": [
    "import pandas as pd\n",
    "from functions import read_and_clean, concat_same_city"
   ]
  },
  {
   "cell_type": "code",
   "execution_count": 2,
   "outputs": [],
   "source": [
    "# declare variables\n",
    "cities = ['sydney', 'melbourne', 'brisbane']\n",
    "years = ['2019', '2020', '2021', '2022']\n",
    "columns_to_vis = ['WC', 'Analytic', 'cogproc', 'emo_pos', 'emo_anx', 'emo_anger', 'emo_sad', 'family', 'friend']"
   ],
   "metadata": {
    "collapsed": false
   }
  },
  {
   "cell_type": "code",
   "execution_count": 3,
   "outputs": [
    {
     "name": "stderr",
     "output_type": "stream",
     "text": [
      "/Users/ivanosipchyk/dev/studies/reddits-visualization/src/visualization/functions.py:12: DtypeWarning: Columns (1) have mixed types. Specify dtype option on import or set low_memory=False.\n",
      "  df = pd.read_csv(path + city.capitalize() + '/' + city + '_' + year + '.csv')\n",
      "/Users/ivanosipchyk/dev/studies/reddits-visualization/src/visualization/functions.py:12: DtypeWarning: Columns (1) have mixed types. Specify dtype option on import or set low_memory=False.\n",
      "  df = pd.read_csv(path + city.capitalize() + '/' + city + '_' + year + '.csv')\n",
      "/Users/ivanosipchyk/dev/studies/reddits-visualization/src/visualization/functions.py:12: DtypeWarning: Columns (1) have mixed types. Specify dtype option on import or set low_memory=False.\n",
      "  df = pd.read_csv(path + city.capitalize() + '/' + city + '_' + year + '.csv')\n",
      "/Users/ivanosipchyk/dev/studies/reddits-visualization/src/visualization/functions.py:12: DtypeWarning: Columns (1) have mixed types. Specify dtype option on import or set low_memory=False.\n",
      "  df = pd.read_csv(path + city.capitalize() + '/' + city + '_' + year + '.csv')\n",
      "/Users/ivanosipchyk/dev/studies/reddits-visualization/src/visualization/functions.py:12: DtypeWarning: Columns (1) have mixed types. Specify dtype option on import or set low_memory=False.\n",
      "  df = pd.read_csv(path + city.capitalize() + '/' + city + '_' + year + '.csv')\n"
     ]
    }
   ],
   "source": [
    "dataframes_to_describe = read_and_clean()"
   ],
   "metadata": {
    "collapsed": false
   }
  },
  {
   "cell_type": "code",
   "execution_count": 11,
   "outputs": [],
   "source": [
    "def describe(dataframes_describe):\n",
    "    dataframes_concatenated = concat_same_city(dataframes_describe)\n",
    "\n",
    "    for key, value in dataframes_concatenated.items():\n",
    "        description = value.describe()\n",
    "        variances = value.var()\n",
    "        description.loc['var'] = variances\n",
    "        print(f'Description for {key.capitalize()}')\n",
    "        print(description)"
   ],
   "metadata": {
    "collapsed": false
   }
  },
  {
   "cell_type": "code",
   "execution_count": 12,
   "outputs": [
    {
     "name": "stdout",
     "output_type": "stream",
     "text": [
      "Description for Sydney\n",
      "                 WC      Analytic       cogproc       emo_pos       emo_anx  \\\n",
      "count  1.175090e+06  1.175090e+06  1.175090e+06  1.175090e+06  1.175090e+06   \n",
      "mean   4.764492e+01  4.678784e+01  1.245532e+01  7.785108e-01  1.031632e-01   \n",
      "std    4.913370e+01  3.176356e+01  7.028146e+00  1.852173e+00  6.183457e-01   \n",
      "min    1.500000e+01  0.000000e+00  0.000000e+00  0.000000e+00  0.000000e+00   \n",
      "25%    2.200000e+01  1.722000e+01  7.410000e+00  0.000000e+00  0.000000e+00   \n",
      "50%    3.300000e+01  4.512000e+01  1.200000e+01  0.000000e+00  0.000000e+00   \n",
      "75%    5.500000e+01  7.562000e+01  1.667000e+01  0.000000e+00  0.000000e+00   \n",
      "max    1.843000e+03  9.900000e+01  6.316000e+01  8.889000e+01  2.500000e+01   \n",
      "var    2.414121e+03  1.008924e+03  4.939483e+01  3.430543e+00  3.823514e-01   \n",
      "\n",
      "          emo_anger       emo_sad        family        friend  \n",
      "count  1.175090e+06  1.175090e+06  1.175089e+06  1.175089e+06  \n",
      "mean   1.426986e-01  8.216833e-02  2.373673e-01  1.613384e-01  \n",
      "std    7.685520e-01  5.711280e-01  1.039068e+00  7.992624e-01  \n",
      "min    0.000000e+00  0.000000e+00  0.000000e+00  0.000000e+00  \n",
      "25%    0.000000e+00  0.000000e+00  0.000000e+00  0.000000e+00  \n",
      "50%    0.000000e+00  0.000000e+00  0.000000e+00  0.000000e+00  \n",
      "75%    0.000000e+00  0.000000e+00  0.000000e+00  0.000000e+00  \n",
      "max    2.778000e+01  2.353000e+01  5.789000e+01  3.214000e+01  \n",
      "var    5.906721e-01  3.261872e-01  1.079663e+00  6.388204e-01  \n",
      "Description for Melbourne\n",
      "                 WC      Analytic       cogproc       emo_pos       emo_anx  \\\n",
      "count  2.259494e+06  2.259494e+06  2.259494e+06  2.259494e+06  2.259494e+06   \n",
      "mean   4.467258e+01  4.491114e+01  1.261460e+01  8.444274e-01  1.156320e-01   \n",
      "std    4.512269e+01  3.193426e+01  7.205112e+00  1.957688e+00  6.676658e-01   \n",
      "min    1.500000e+01  1.000000e+00  0.000000e+00  0.000000e+00  0.000000e+00   \n",
      "25%    2.100000e+01  1.487000e+01  7.410000e+00  0.000000e+00  0.000000e+00   \n",
      "50%    3.100000e+01  4.252000e+01  1.212000e+01  0.000000e+00  0.000000e+00   \n",
      "75%    5.100000e+01  7.336000e+01  1.698000e+01  0.000000e+00  0.000000e+00   \n",
      "max    1.940000e+03  9.900000e+01  6.875000e+01  1.000000e+02  2.941000e+01   \n",
      "var    2.036057e+03  1.019797e+03  5.191365e+01  3.832543e+00  4.457777e-01   \n",
      "\n",
      "          emo_anger       emo_sad        family        friend  \n",
      "count  2.259494e+06  2.259494e+06  2.259494e+06  2.259494e+06  \n",
      "mean   1.596290e-01  9.531439e-02  2.355359e-01  1.625325e-01  \n",
      "std    8.226591e-01  6.254027e-01  1.053228e+00  8.149514e-01  \n",
      "min    0.000000e+00  0.000000e+00  0.000000e+00  0.000000e+00  \n",
      "25%    0.000000e+00  0.000000e+00  0.000000e+00  0.000000e+00  \n",
      "50%    0.000000e+00  0.000000e+00  0.000000e+00  0.000000e+00  \n",
      "75%    0.000000e+00  0.000000e+00  0.000000e+00  0.000000e+00  \n",
      "max    3.500000e+01  2.667000e+01  4.706000e+01  3.750000e+01  \n",
      "var    6.767680e-01  3.911286e-01  1.109288e+00  6.641457e-01  \n",
      "Description for Brisbane\n",
      "                  WC       Analytic        cogproc        emo_pos  \\\n",
      "count  921901.000000  921901.000000  921901.000000  921901.000000   \n",
      "mean       46.408990      46.178015      12.340564       0.865924   \n",
      "std        48.377941      31.912668       7.129027       1.989182   \n",
      "min        15.000000       1.000000       0.000000       0.000000   \n",
      "25%        21.000000      16.490000       7.140000       0.000000   \n",
      "50%        32.000000      44.100000      11.760000       0.000000   \n",
      "75%        53.000000      75.100000      16.670000       0.000000   \n",
      "max      2247.000000      99.000000      72.220000      40.000000   \n",
      "var      2340.425156    1018.418365      50.823025       3.956844   \n",
      "\n",
      "             emo_anx      emo_anger        emo_sad         family  \\\n",
      "count  921901.000000  921901.000000  921901.000000  921901.000000   \n",
      "mean        0.102390       0.143537       0.084931       0.244511   \n",
      "std         0.623345       0.775995       0.583535       1.070308   \n",
      "min         0.000000       0.000000       0.000000       0.000000   \n",
      "25%         0.000000       0.000000       0.000000       0.000000   \n",
      "50%         0.000000       0.000000       0.000000       0.000000   \n",
      "75%         0.000000       0.000000       0.000000       0.000000   \n",
      "max        22.220000      27.780000      21.050000      36.840000   \n",
      "var         0.388559       0.602168       0.340513       1.145560   \n",
      "\n",
      "              friend  \n",
      "count  921901.000000  \n",
      "mean        0.163965  \n",
      "std         0.814362  \n",
      "min         0.000000  \n",
      "25%         0.000000  \n",
      "50%         0.000000  \n",
      "75%         0.000000  \n",
      "max        20.590000  \n",
      "var         0.663186  \n"
     ]
    }
   ],
   "source": [
    "describe(dataframes_to_describe)"
   ],
   "metadata": {
    "collapsed": false
   }
  },
  {
   "cell_type": "code",
   "execution_count": null,
   "outputs": [],
   "source": [],
   "metadata": {
    "collapsed": false
   }
  }
 ],
 "metadata": {
  "kernelspec": {
   "display_name": "Python 3",
   "language": "python",
   "name": "python3"
  },
  "language_info": {
   "codemirror_mode": {
    "name": "ipython",
    "version": 2
   },
   "file_extension": ".py",
   "mimetype": "text/x-python",
   "name": "python",
   "nbconvert_exporter": "python",
   "pygments_lexer": "ipython2",
   "version": "2.7.6"
  }
 },
 "nbformat": 4,
 "nbformat_minor": 0
}
